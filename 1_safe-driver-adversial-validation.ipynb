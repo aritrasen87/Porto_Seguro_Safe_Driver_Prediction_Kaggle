{
 "cells": [
  {
   "cell_type": "code",
   "execution_count": 1,
   "id": "dcc045b0",
   "metadata": {
    "_cell_guid": "b1076dfc-b9ad-4769-8c92-a6c4dae69d19",
    "_uuid": "8f2839f25d086af736a60e9eeb907d3b93b6e0e5",
    "execution": {
     "iopub.execute_input": "2023-03-04T10:32:47.960558Z",
     "iopub.status.busy": "2023-03-04T10:32:47.960183Z",
     "iopub.status.idle": "2023-03-04T10:32:47.971895Z",
     "shell.execute_reply": "2023-03-04T10:32:47.970365Z"
    },
    "papermill": {
     "duration": 0.018473,
     "end_time": "2023-03-04T10:32:47.973897",
     "exception": false,
     "start_time": "2023-03-04T10:32:47.955424",
     "status": "completed"
    },
    "tags": []
   },
   "outputs": [
    {
     "name": "stdout",
     "output_type": "stream",
     "text": [
      "/kaggle/input/porto-seguro-safe-driver-prediction/sample_submission.csv\n",
      "/kaggle/input/porto-seguro-safe-driver-prediction/train.csv\n",
      "/kaggle/input/porto-seguro-safe-driver-prediction/test.csv\n"
     ]
    }
   ],
   "source": [
    "import numpy as np # linear algebra\n",
    "import pandas as pd # data processing, CSV file I/O (e.g. pd.read_csv)\n",
    "\n",
    "import os\n",
    "for dirname, _, filenames in os.walk('/kaggle/input'):\n",
    "    for filename in filenames:\n",
    "        print(os.path.join(dirname, filename))"
   ]
  },
  {
   "cell_type": "code",
   "execution_count": 2,
   "id": "caa9ffcd",
   "metadata": {
    "execution": {
     "iopub.execute_input": "2023-03-04T10:32:47.980402Z",
     "iopub.status.busy": "2023-03-04T10:32:47.979904Z",
     "iopub.status.idle": "2023-03-04T10:32:49.137378Z",
     "shell.execute_reply": "2023-03-04T10:32:49.136644Z"
    },
    "papermill": {
     "duration": 1.163178,
     "end_time": "2023-03-04T10:32:49.139769",
     "exception": false,
     "start_time": "2023-03-04T10:32:47.976591",
     "status": "completed"
    },
    "tags": []
   },
   "outputs": [],
   "source": [
    "from sklearn.ensemble import RandomForestClassifier\n",
    "from sklearn.model_selection import cross_val_predict\n",
    "from sklearn.metrics import roc_auc_score"
   ]
  },
  {
   "cell_type": "code",
   "execution_count": 3,
   "id": "54d3095b",
   "metadata": {
    "execution": {
     "iopub.execute_input": "2023-03-04T10:32:49.147047Z",
     "iopub.status.busy": "2023-03-04T10:32:49.146588Z",
     "iopub.status.idle": "2023-03-04T10:32:57.495030Z",
     "shell.execute_reply": "2023-03-04T10:32:57.493638Z"
    },
    "papermill": {
     "duration": 8.354829,
     "end_time": "2023-03-04T10:32:57.497752",
     "exception": false,
     "start_time": "2023-03-04T10:32:49.142923",
     "status": "completed"
    },
    "tags": []
   },
   "outputs": [],
   "source": [
    "train = pd.read_csv('/kaggle/input/porto-seguro-safe-driver-prediction/train.csv')\n",
    "test = pd.read_csv('/kaggle/input/porto-seguro-safe-driver-prediction/test.csv')"
   ]
  },
  {
   "cell_type": "code",
   "execution_count": 4,
   "id": "f39027a8",
   "metadata": {
    "execution": {
     "iopub.execute_input": "2023-03-04T10:32:57.504380Z",
     "iopub.status.busy": "2023-03-04T10:32:57.504029Z",
     "iopub.status.idle": "2023-03-04T10:32:57.510729Z",
     "shell.execute_reply": "2023-03-04T10:32:57.509838Z"
    },
    "papermill": {
     "duration": 0.012061,
     "end_time": "2023-03-04T10:32:57.512434",
     "exception": false,
     "start_time": "2023-03-04T10:32:57.500373",
     "status": "completed"
    },
    "tags": []
   },
   "outputs": [
    {
     "data": {
      "text/plain": [
       "((595212, 59), (892816, 58))"
      ]
     },
     "execution_count": 4,
     "metadata": {},
     "output_type": "execute_result"
    }
   ],
   "source": [
    "train.shape , test.shape"
   ]
  },
  {
   "cell_type": "code",
   "execution_count": 5,
   "id": "85926a30",
   "metadata": {
    "execution": {
     "iopub.execute_input": "2023-03-04T10:32:57.519354Z",
     "iopub.status.busy": "2023-03-04T10:32:57.518966Z",
     "iopub.status.idle": "2023-03-04T10:32:58.097453Z",
     "shell.execute_reply": "2023-03-04T10:32:58.096419Z"
    },
    "papermill": {
     "duration": 0.58488,
     "end_time": "2023-03-04T10:32:58.099997",
     "exception": false,
     "start_time": "2023-03-04T10:32:57.515117",
     "status": "completed"
    },
    "tags": []
   },
   "outputs": [],
   "source": [
    "train = train.fillna(-1).drop(['id','target'],axis=1)\n",
    "test = test.fillna(-1).drop(['id'],axis=1)\n",
    "X = train.append(test)\n",
    "y = [0] * len(train) + [1] * len(test)"
   ]
  },
  {
   "cell_type": "code",
   "execution_count": 6,
   "id": "b4ae1c95",
   "metadata": {
    "execution": {
     "iopub.execute_input": "2023-03-04T10:32:58.106414Z",
     "iopub.status.busy": "2023-03-04T10:32:58.106084Z",
     "iopub.status.idle": "2023-03-04T11:20:42.889407Z",
     "shell.execute_reply": "2023-03-04T11:20:42.885599Z"
    },
    "papermill": {
     "duration": 2864.796915,
     "end_time": "2023-03-04T11:20:42.899649",
     "exception": false,
     "start_time": "2023-03-04T10:32:58.102734",
     "status": "completed"
    },
    "tags": []
   },
   "outputs": [],
   "source": [
    "model = RandomForestClassifier()\n",
    "cv_preds = cross_val_predict(model,X,y,cv=5,n_jobs=-1,method='predict_proba')"
   ]
  },
  {
   "cell_type": "code",
   "execution_count": 7,
   "id": "4d4dce46",
   "metadata": {
    "execution": {
     "iopub.execute_input": "2023-03-04T11:20:42.915969Z",
     "iopub.status.busy": "2023-03-04T11:20:42.914596Z",
     "iopub.status.idle": "2023-03-04T11:20:43.545383Z",
     "shell.execute_reply": "2023-03-04T11:20:43.543633Z"
    },
    "papermill": {
     "duration": 0.640416,
     "end_time": "2023-03-04T11:20:43.548211",
     "exception": false,
     "start_time": "2023-03-04T11:20:42.907795",
     "status": "completed"
    },
    "tags": []
   },
   "outputs": [
    {
     "data": {
      "text/plain": [
       "0.49934532019249506"
      ]
     },
     "execution_count": 7,
     "metadata": {},
     "output_type": "execute_result"
    }
   ],
   "source": [
    "roc_auc_score(y,cv_preds[:,1])"
   ]
  },
  {
   "cell_type": "code",
   "execution_count": null,
   "id": "b8442fac",
   "metadata": {
    "papermill": {
     "duration": 0.002517,
     "end_time": "2023-03-04T11:20:43.553950",
     "exception": false,
     "start_time": "2023-03-04T11:20:43.551433",
     "status": "completed"
    },
    "tags": []
   },
   "outputs": [],
   "source": []
  }
 ],
 "metadata": {
  "kernelspec": {
   "display_name": "Python 3",
   "language": "python",
   "name": "python3"
  },
  "language_info": {
   "codemirror_mode": {
    "name": "ipython",
    "version": 3
   },
   "file_extension": ".py",
   "mimetype": "text/x-python",
   "name": "python",
   "nbconvert_exporter": "python",
   "pygments_lexer": "ipython3",
   "version": "3.7.12"
  },
  "papermill": {
   "default_parameters": {},
   "duration": 2886.375408,
   "end_time": "2023-03-04T11:20:46.187994",
   "environment_variables": {},
   "exception": null,
   "input_path": "__notebook__.ipynb",
   "output_path": "__notebook__.ipynb",
   "parameters": {},
   "start_time": "2023-03-04T10:32:39.812586",
   "version": "2.4.0"
  }
 },
 "nbformat": 4,
 "nbformat_minor": 5
}
