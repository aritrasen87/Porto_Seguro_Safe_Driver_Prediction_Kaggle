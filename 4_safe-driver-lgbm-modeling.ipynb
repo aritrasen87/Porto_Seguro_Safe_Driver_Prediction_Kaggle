{
 "cells": [
  {
   "cell_type": "code",
   "execution_count": 1,
   "id": "a1a20833",
   "metadata": {
    "_cell_guid": "b1076dfc-b9ad-4769-8c92-a6c4dae69d19",
    "_uuid": "8f2839f25d086af736a60e9eeb907d3b93b6e0e5",
    "execution": {
     "iopub.execute_input": "2023-03-05T11:48:16.879363Z",
     "iopub.status.busy": "2023-03-05T11:48:16.878649Z",
     "iopub.status.idle": "2023-03-05T11:48:20.238291Z",
     "shell.execute_reply": "2023-03-05T11:48:20.236818Z"
    },
    "papermill": {
     "duration": 3.371819,
     "end_time": "2023-03-05T11:48:20.241607",
     "exception": false,
     "start_time": "2023-03-05T11:48:16.869788",
     "status": "completed"
    },
    "tags": []
   },
   "outputs": [
    {
     "data": {
      "text/html": [
       "<style type='text/css'>\n",
       ".datatable table.frame { margin-bottom: 0; }\n",
       ".datatable table.frame thead { border-bottom: none; }\n",
       ".datatable table.frame tr.coltypes td {  color: #FFFFFF;  line-height: 6px;  padding: 0 0.5em;}\n",
       ".datatable .bool    { background: #DDDD99; }\n",
       ".datatable .object  { background: #565656; }\n",
       ".datatable .int     { background: #5D9E5D; }\n",
       ".datatable .float   { background: #4040CC; }\n",
       ".datatable .str     { background: #CC4040; }\n",
       ".datatable .time    { background: #40CC40; }\n",
       ".datatable .row_index {  background: var(--jp-border-color3);  border-right: 1px solid var(--jp-border-color0);  color: var(--jp-ui-font-color3);  font-size: 9px;}\n",
       ".datatable .frame tbody td { text-align: left; }\n",
       ".datatable .frame tr.coltypes .row_index {  background: var(--jp-border-color0);}\n",
       ".datatable th:nth-child(2) { padding-left: 12px; }\n",
       ".datatable .hellipsis {  color: var(--jp-cell-editor-border-color);}\n",
       ".datatable .vellipsis {  background: var(--jp-layout-color0);  color: var(--jp-cell-editor-border-color);}\n",
       ".datatable .na {  color: var(--jp-cell-editor-border-color);  font-size: 80%;}\n",
       ".datatable .sp {  opacity: 0.25;}\n",
       ".datatable .footer { font-size: 9px; }\n",
       ".datatable .frame_dimensions {  background: var(--jp-border-color3);  border-top: 1px solid var(--jp-border-color0);  color: var(--jp-ui-font-color3);  display: inline-block;  opacity: 0.6;  padding: 1px 10px 1px 5px;}\n",
       "</style>\n"
      ],
      "text/plain": [
       "<IPython.core.display.HTML object>"
      ]
     },
     "metadata": {},
     "output_type": "display_data"
    }
   ],
   "source": [
    "from __future__ import print_function\n",
    "\n",
    "from datetime import datetime\n",
    "import numpy as np\n",
    "import pandas as pd\n",
    "import optuna\n",
    "import lightgbm as lgb\n",
    "from path import Path\n",
    "from sklearn.model_selection import StratifiedKFold"
   ]
  },
  {
   "cell_type": "code",
   "execution_count": 2,
   "id": "cc10a97f",
   "metadata": {
    "execution": {
     "iopub.execute_input": "2023-03-05T11:48:20.253464Z",
     "iopub.status.busy": "2023-03-05T11:48:20.252809Z",
     "iopub.status.idle": "2023-03-05T11:48:20.261502Z",
     "shell.execute_reply": "2023-03-05T11:48:20.259973Z"
    },
    "papermill": {
     "duration": 0.017666,
     "end_time": "2023-03-05T11:48:20.264264",
     "exception": false,
     "start_time": "2023-03-05T11:48:20.246598",
     "status": "completed"
    },
    "tags": []
   },
   "outputs": [],
   "source": [
    "def timer(start_time=None):\n",
    "    if not start_time:\n",
    "        start_time = datetime.now()\n",
    "        return start_time\n",
    "    elif start_time:\n",
    "        thour, temp_sec = divmod((datetime.now() - start_time).total_seconds(), 3600)\n",
    "        tmin, tsec = divmod(temp_sec, 60)\n",
    "        print('\\n Time taken: %i hours %i minutes and %s seconds.' % (thour, tmin, round(tsec, 2)))"
   ]
  },
  {
   "cell_type": "code",
   "execution_count": 3,
   "id": "5693cd11",
   "metadata": {
    "execution": {
     "iopub.execute_input": "2023-03-05T11:48:20.275299Z",
     "iopub.status.busy": "2023-03-05T11:48:20.274887Z",
     "iopub.status.idle": "2023-03-05T11:48:20.283516Z",
     "shell.execute_reply": "2023-03-05T11:48:20.281834Z"
    },
    "papermill": {
     "duration": 0.017309,
     "end_time": "2023-03-05T11:48:20.286179",
     "exception": false,
     "start_time": "2023-03-05T11:48:20.268870",
     "status": "completed"
    },
    "tags": []
   },
   "outputs": [],
   "source": [
    "class Config:\n",
    "    input_path = Path('/kaggle/input/porto-seguro-safe-driver-prediction')\n",
    "    optuna_lgb = True\n",
    "    n_estimators = 1500\n",
    "    early_stopping_round = 150\n",
    "    cv_folds = 5\n",
    "    random_state = 0\n",
    "    params = {\n",
    "        'objective' : 'binary',\n",
    "        'boosting_type' : 'gbdt',\n",
    "        'learning_rate' : 0.01 ,\n",
    "        'max_bin' : 25 ,\n",
    "        'num_leaves' : 31,\n",
    "        'min_child_samples' : 1500,\n",
    "        'colsample_bytree' : 0.7,\n",
    "        'subsample_freq' : 1,\n",
    "        'subsample' : 0.7,\n",
    "        'reg_alpha' : 1.0,\n",
    "        'reg_lambda' : 1.0,\n",
    "        'verbosity' : 0,\n",
    "        'random_state' : 0\n",
    "    }\n",
    "config = Config()"
   ]
  },
  {
   "cell_type": "code",
   "execution_count": 4,
   "id": "070cd335",
   "metadata": {
    "execution": {
     "iopub.execute_input": "2023-03-05T11:48:20.296995Z",
     "iopub.status.busy": "2023-03-05T11:48:20.296559Z",
     "iopub.status.idle": "2023-03-05T11:48:32.684396Z",
     "shell.execute_reply": "2023-03-05T11:48:32.682938Z"
    },
    "papermill": {
     "duration": 12.397163,
     "end_time": "2023-03-05T11:48:32.687771",
     "exception": false,
     "start_time": "2023-03-05T11:48:20.290608",
     "status": "completed"
    },
    "tags": []
   },
   "outputs": [],
   "source": [
    "train = pd.read_csv(config.input_path / 'train.csv',index_col='id')\n",
    "test = pd.read_csv(config.input_path / 'test.csv',index_col='id')\n",
    "submission = pd.read_csv(config.input_path / 'sample_submission.csv',index_col='id')\n",
    "\n",
    "calc_features = [col for col in train.columns if '_calc' in col]\n",
    "cat_features = [col for col in train.columns if '_cat' in col]"
   ]
  },
  {
   "cell_type": "code",
   "execution_count": 5,
   "id": "3131fcb9",
   "metadata": {
    "execution": {
     "iopub.execute_input": "2023-03-05T11:48:32.699675Z",
     "iopub.status.busy": "2023-03-05T11:48:32.699270Z",
     "iopub.status.idle": "2023-03-05T11:48:32.799033Z",
     "shell.execute_reply": "2023-03-05T11:48:32.797663Z"
    },
    "papermill": {
     "duration": 0.109401,
     "end_time": "2023-03-05T11:48:32.802106",
     "exception": false,
     "start_time": "2023-03-05T11:48:32.692705",
     "status": "completed"
    },
    "tags": []
   },
   "outputs": [],
   "source": [
    "target = train['target']\n",
    "train = train.drop(columns = 'target',axis='columns')"
   ]
  },
  {
   "cell_type": "code",
   "execution_count": 6,
   "id": "ce6358b2",
   "metadata": {
    "execution": {
     "iopub.execute_input": "2023-03-05T11:48:32.813529Z",
     "iopub.status.busy": "2023-03-05T11:48:32.813066Z",
     "iopub.status.idle": "2023-03-05T11:48:33.036155Z",
     "shell.execute_reply": "2023-03-05T11:48:33.033805Z"
    },
    "papermill": {
     "duration": 0.233866,
     "end_time": "2023-03-05T11:48:33.040773",
     "exception": false,
     "start_time": "2023-03-05T11:48:32.806907",
     "status": "completed"
    },
    "tags": []
   },
   "outputs": [],
   "source": [
    "train = train.drop(columns = calc_features , axis = 'columns')\n",
    "test = test.drop(columns = calc_features , axis = 'columns')"
   ]
  },
  {
   "cell_type": "code",
   "execution_count": 7,
   "id": "3ec46f30",
   "metadata": {
    "execution": {
     "iopub.execute_input": "2023-03-05T11:48:33.057319Z",
     "iopub.status.busy": "2023-03-05T11:48:33.056797Z",
     "iopub.status.idle": "2023-03-05T11:48:34.168579Z",
     "shell.execute_reply": "2023-03-05T11:48:34.166962Z"
    },
    "papermill": {
     "duration": 1.125166,
     "end_time": "2023-03-05T11:48:34.171763",
     "exception": false,
     "start_time": "2023-03-05T11:48:33.046597",
     "status": "completed"
    },
    "tags": []
   },
   "outputs": [],
   "source": [
    "train = pd.get_dummies(train, columns=cat_features)\n",
    "test = pd.get_dummies(test, columns=cat_features)\n",
    "\n",
    "assert((train.columns==test.columns).all())"
   ]
  },
  {
   "cell_type": "code",
   "execution_count": 8,
   "id": "3cbf8baa",
   "metadata": {
    "execution": {
     "iopub.execute_input": "2023-03-05T11:48:34.182928Z",
     "iopub.status.busy": "2023-03-05T11:48:34.182490Z",
     "iopub.status.idle": "2023-03-05T11:48:35.916989Z",
     "shell.execute_reply": "2023-03-05T11:48:35.915637Z"
    },
    "papermill": {
     "duration": 1.743805,
     "end_time": "2023-03-05T11:48:35.920135",
     "exception": false,
     "start_time": "2023-03-05T11:48:34.176330",
     "status": "completed"
    },
    "tags": []
   },
   "outputs": [],
   "source": [
    "from numba import jit\n",
    "\n",
    "@jit\n",
    "def eval_gini(y_true,y_pred):\n",
    "    y_true = np.asarray(y_true)\n",
    "    y_true = y_true[np.argsort(y_pred)]\n",
    "    \n",
    "    ntrue = 0\n",
    "    gini = 0\n",
    "    delta = 0\n",
    "    n = len(y_true)\n",
    "    \n",
    "    for i in range(n-1 , -1 , -1):\n",
    "        y_i = y_true[i]\n",
    "        ntrue += y_i\n",
    "        gini += y_i * delta\n",
    "        delta += 1 - y_i\n",
    "    gini = 1 - 2 * gini / (ntrue * (n - ntrue))\n",
    "    return gini\n",
    "\n",
    "def gini_lgb(y_true,y_pred):\n",
    "    eval_name = 'normalized_gini_coef'\n",
    "    eval_result = eval_gini(y_true,y_pred)\n",
    "    is_higher_better = True\n",
    "    return eval_name, eval_result , is_higher_better\n",
    "                           "
   ]
  },
  {
   "cell_type": "code",
   "execution_count": 9,
   "id": "6e368411",
   "metadata": {
    "execution": {
     "iopub.execute_input": "2023-03-05T11:48:35.931877Z",
     "iopub.status.busy": "2023-03-05T11:48:35.930681Z",
     "iopub.status.idle": "2023-03-05T11:48:35.937012Z",
     "shell.execute_reply": "2023-03-05T11:48:35.935610Z"
    },
    "papermill": {
     "duration": 0.015362,
     "end_time": "2023-03-05T11:48:35.940042",
     "exception": false,
     "start_time": "2023-03-05T11:48:35.924680",
     "status": "completed"
    },
    "tags": []
   },
   "outputs": [],
   "source": [
    "start_time = timer()"
   ]
  },
  {
   "cell_type": "code",
   "execution_count": 10,
   "id": "8d5dd99d",
   "metadata": {
    "execution": {
     "iopub.execute_input": "2023-03-05T11:48:35.951670Z",
     "iopub.status.busy": "2023-03-05T11:48:35.950822Z",
     "iopub.status.idle": "2023-03-05T11:59:43.534951Z",
     "shell.execute_reply": "2023-03-05T11:59:43.533923Z"
    },
    "papermill": {
     "duration": 667.593366,
     "end_time": "2023-03-05T11:59:43.537999",
     "exception": false,
     "start_time": "2023-03-05T11:48:35.944633",
     "status": "completed"
    },
    "tags": []
   },
   "outputs": [
    {
     "name": "stdout",
     "output_type": "stream",
     "text": [
      "CV fold : 0\n",
      "CV fold : 1\n",
      "CV fold : 2\n",
      "CV fold : 3\n",
      "CV fold : 4\n"
     ]
    }
   ],
   "source": [
    "preds = np.zeros(len(test))\n",
    "oof = np.zeros(len(train))\n",
    "metric_evaluations = list()\n",
    "skf = StratifiedKFold(n_splits=config.cv_folds , shuffle=True,random_state=config.random_state)\n",
    "\n",
    "for idx , (train_idx , valid_idx) in enumerate(skf.split(train,target)):\n",
    "    print(f\"CV fold : {idx}\")\n",
    "    X_train = train.iloc[train_idx]\n",
    "    y_train = target.iloc[train_idx]\n",
    "    X_valid = train.iloc[valid_idx]\n",
    "    y_valid = target.iloc[valid_idx]\n",
    "\n",
    "    model = lgb.LGBMClassifier(**config.params , n_estimators=1500 , early_stopping_round=150 , force_row_wise=True)\n",
    "\n",
    "    callbacks = [lgb.early_stopping(stopping_rounds=150 , verbose=False)]\n",
    "\n",
    "    model.fit(X_train,y_train, eval_set=[(X_valid,y_valid)] , eval_metric=gini_lgb , callbacks=callbacks)\n",
    "\n",
    "    metric_evaluations.append(model.best_score_['valid_0']['normalized_gini_coef'])\n",
    "    \n",
    "    preds += (model.predict_proba(test,num_iterations=model.best_iteration_)[:,1] / skf.n_splits)\n",
    "    \n",
    "    oof[valid_idx] = model.predict_proba(X_valid,num_iterations=model.best_iteration_)[:,1]"
   ]
  },
  {
   "cell_type": "code",
   "execution_count": 11,
   "id": "9d67d163",
   "metadata": {
    "execution": {
     "iopub.execute_input": "2023-03-05T11:59:43.550889Z",
     "iopub.status.busy": "2023-03-05T11:59:43.550072Z",
     "iopub.status.idle": "2023-03-05T11:59:43.556563Z",
     "shell.execute_reply": "2023-03-05T11:59:43.555430Z"
    },
    "papermill": {
     "duration": 0.015491,
     "end_time": "2023-03-05T11:59:43.558800",
     "exception": false,
     "start_time": "2023-03-05T11:59:43.543309",
     "status": "completed"
    },
    "tags": []
   },
   "outputs": [
    {
     "name": "stdout",
     "output_type": "stream",
     "text": [
      "\n",
      " Time taken: 0 hours 11 minutes and 7.62 seconds.\n"
     ]
    }
   ],
   "source": [
    "timer(start_time)"
   ]
  },
  {
   "cell_type": "code",
   "execution_count": 12,
   "id": "84f266dd",
   "metadata": {
    "execution": {
     "iopub.execute_input": "2023-03-05T11:59:43.570567Z",
     "iopub.status.busy": "2023-03-05T11:59:43.569946Z",
     "iopub.status.idle": "2023-03-05T11:59:43.576749Z",
     "shell.execute_reply": "2023-03-05T11:59:43.575147Z"
    },
    "papermill": {
     "duration": 0.015591,
     "end_time": "2023-03-05T11:59:43.579207",
     "exception": false,
     "start_time": "2023-03-05T11:59:43.563616",
     "status": "completed"
    },
    "tags": []
   },
   "outputs": [
    {
     "name": "stdout",
     "output_type": "stream",
     "text": [
      "Evaluation Metric mean: 0.28856750056382924\n",
      "Evaluation Metric std: 0.014968321544153982\n"
     ]
    }
   ],
   "source": [
    "print(f\"Evaluation Metric mean: {np.mean(metric_evaluations)}\")\n",
    "print(f\"Evaluation Metric std: {np.std(metric_evaluations)}\")"
   ]
  },
  {
   "cell_type": "code",
   "execution_count": 13,
   "id": "f07f756f",
   "metadata": {
    "execution": {
     "iopub.execute_input": "2023-03-05T11:59:43.590561Z",
     "iopub.status.busy": "2023-03-05T11:59:43.590217Z",
     "iopub.status.idle": "2023-03-05T11:59:45.880934Z",
     "shell.execute_reply": "2023-03-05T11:59:45.879591Z"
    },
    "papermill": {
     "duration": 2.300152,
     "end_time": "2023-03-05T11:59:45.884257",
     "exception": false,
     "start_time": "2023-03-05T11:59:43.584105",
     "status": "completed"
    },
    "tags": []
   },
   "outputs": [],
   "source": [
    "submission['target'] = preds\n",
    "submission.to_csv('lgb_submission.csv')"
   ]
  },
  {
   "cell_type": "code",
   "execution_count": 14,
   "id": "c7599e5b",
   "metadata": {
    "execution": {
     "iopub.execute_input": "2023-03-05T11:59:45.897085Z",
     "iopub.status.busy": "2023-03-05T11:59:45.896590Z",
     "iopub.status.idle": "2023-03-05T11:59:46.476594Z",
     "shell.execute_reply": "2023-03-05T11:59:46.475381Z"
    },
    "papermill": {
     "duration": 0.589532,
     "end_time": "2023-03-05T11:59:46.479041",
     "exception": false,
     "start_time": "2023-03-05T11:59:45.889509",
     "status": "completed"
    },
    "tags": []
   },
   "outputs": [
    {
     "name": "stderr",
     "output_type": "stream",
     "text": [
      "/tmp/ipykernel_19/3895309277.py:3: NumbaWarning: \u001b[1m\n",
      "Compilation is falling back to object mode WITH looplifting enabled because Function \"eval_gini\" failed type inference due to: \u001b[1m\u001b[1mnon-precise type pyobject\u001b[0m\n",
      "\u001b[0m\u001b[1mDuring: typing of argument at /tmp/ipykernel_19/3895309277.py (5)\u001b[0m\n",
      "\u001b[1m\n",
      "File \"../../tmp/ipykernel_19/3895309277.py\", line 5:\u001b[0m\n",
      "\u001b[1m<source missing, REPL/exec in use?>\u001b[0m\n",
      "\u001b[0m\n",
      "  @jit\n",
      "/tmp/ipykernel_19/3895309277.py:3: NumbaWarning: \u001b[1m\n",
      "Compilation is falling back to object mode WITHOUT looplifting enabled because Function \"eval_gini\" failed type inference due to: \u001b[1m\u001b[1mCannot determine Numba type of <class 'numba.core.dispatcher.LiftedLoop'>\u001b[0m\n",
      "\u001b[1m\n",
      "File \"../../tmp/ipykernel_19/3895309277.py\", line 13:\u001b[0m\n",
      "\u001b[1m<source missing, REPL/exec in use?>\u001b[0m\n",
      "\u001b[0m\u001b[0m\n",
      "  @jit\n",
      "/opt/conda/lib/python3.7/site-packages/numba/core/object_mode_passes.py:152: NumbaWarning: \u001b[1mFunction \"eval_gini\" was compiled in object mode without forceobj=True, but has lifted loops.\n",
      "\u001b[1m\n",
      "File \"../../tmp/ipykernel_19/3895309277.py\", line 5:\u001b[0m\n",
      "\u001b[1m<source missing, REPL/exec in use?>\u001b[0m\n",
      "\u001b[0m\n",
      "  state.func_ir.loc))\n",
      "/opt/conda/lib/python3.7/site-packages/numba/core/object_mode_passes.py:162: NumbaDeprecationWarning: \u001b[1m\n",
      "Fall-back from the nopython compilation path to the object mode compilation path has been detected, this is deprecated behaviour.\n",
      "\n",
      "For more information visit https://numba.readthedocs.io/en/stable/reference/deprecation.html#deprecation-of-object-mode-fall-back-behaviour-when-using-jit\n",
      "\u001b[1m\n",
      "File \"../../tmp/ipykernel_19/3895309277.py\", line 5:\u001b[0m\n",
      "\u001b[1m<source missing, REPL/exec in use?>\u001b[0m\n",
      "\u001b[0m\n",
      "  state.func_ir.loc))\n"
     ]
    },
    {
     "data": {
      "text/plain": [
       "('normalized_gini_coef', 0.2885009109990003, True)"
      ]
     },
     "execution_count": 14,
     "metadata": {},
     "output_type": "execute_result"
    }
   ],
   "source": [
    "gini_lgb(target,oof)"
   ]
  },
  {
   "cell_type": "code",
   "execution_count": null,
   "id": "2220e6af",
   "metadata": {
    "papermill": {
     "duration": 0.005084,
     "end_time": "2023-03-05T11:59:46.489427",
     "exception": false,
     "start_time": "2023-03-05T11:59:46.484343",
     "status": "completed"
    },
    "tags": []
   },
   "outputs": [],
   "source": []
  }
 ],
 "metadata": {
  "kernelspec": {
   "display_name": "Python 3",
   "language": "python",
   "name": "python3"
  },
  "language_info": {
   "codemirror_mode": {
    "name": "ipython",
    "version": 3
   },
   "file_extension": ".py",
   "mimetype": "text/x-python",
   "name": "python",
   "nbconvert_exporter": "python",
   "pygments_lexer": "ipython3",
   "version": "3.7.12"
  },
  "papermill": {
   "default_parameters": {},
   "duration": 702.218688,
   "end_time": "2023-03-05T11:59:48.123278",
   "environment_variables": {},
   "exception": null,
   "input_path": "__notebook__.ipynb",
   "output_path": "__notebook__.ipynb",
   "parameters": {},
   "start_time": "2023-03-05T11:48:05.904590",
   "version": "2.4.0"
  }
 },
 "nbformat": 4,
 "nbformat_minor": 5
}
